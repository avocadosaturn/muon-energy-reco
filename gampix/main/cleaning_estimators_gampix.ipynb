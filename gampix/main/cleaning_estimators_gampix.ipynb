{
 "cells": [
  {
   "cell_type": "code",
   "execution_count": 10,
   "id": "1ece25ae-adfb-4218-bc79-97150cbb5845",
   "metadata": {},
   "outputs": [
    {
     "name": "stdout",
     "output_type": "stream",
     "text": [
      "34480\n",
      "53998.0\n"
     ]
    }
   ],
   "source": [
    "import numpy as np\n",
    "\n",
    "file_ns = range(54)\n",
    "\n",
    "energies = np.empty(0)\n",
    "naive = np.empty(0)\n",
    "detailed = np.empty(0)\n",
    "charge = np.empty(0)\n",
    "evs = np.empty(0)\n",
    "\n",
    "for n in file_ns:\n",
    "    data = np.load(f'/sdf/data/neutrino/summer25/seohyeon/gampix_estimators/muon1k_0-1gev_estimators_gampix_run{n}.npz')\n",
    "\n",
    "    energies = np.append(energies, data['energies'])\n",
    "    naive = np.append(naive, data['naive'] * 10) \n",
    "    detailed = np.append(detailed, data['detailed'] * 10) \n",
    "    charge = np.append(charge, data['charge'])\n",
    "    evs = np.append(evs, (n * 1000) + data['evs'])\n",
    "\n",
    "\n",
    "print(len(evs))\n",
    "print(max(evs))"
   ]
  },
  {
   "cell_type": "code",
   "execution_count": 9,
   "id": "0883001c-87df-4fca-908c-c568c8379b07",
   "metadata": {},
   "outputs": [],
   "source": [
    "# removing outliers\n",
    "outlier_data = np.load('/sdf/data/neutrino/summer25/seohyeon/outliers.npz')\n",
    "outliers = []\n",
    "outliers.extend(outlier_data['difs'])\n",
    "outliers.extend(outlier_data['scatterings'])\n",
    "outliers.append(19956) # the negative energy outlier\n",
    "\n",
    "outliers = list(set(outliers)) \n",
    "\n",
    "outliersg = []\n",
    "for outlier in outliers:\n",
    "    i = np.where(evs == outlier)\n",
    "    if len(i[0]) == 0:\n",
    "        continue\n",
    "    else:\n",
    "        outliersg.append(i[0][0])\n",
    "\n",
    "\n",
    "\n",
    "energies = np.delete(energies, outliersg)\n",
    "naive = np.delete(naive, outliersg)\n",
    "detailed = np.delete(detailed, outliersg)\n",
    "charge = np.delete(charge, outliersg)\n",
    "evs = np.delete(evs, outliersg)\n",
    "\n",
    "\n",
    "np.savez('/sdf/data/neutrino/summer25/seohyeon/gampix_estimators/muon1k_0-1gev_estimators_gampix_cleaned.npz', \n",
    "         energies=energies, naive=naive, detailed=detailed, charge=charge, evs=evs)\n"
   ]
  },
  {
   "cell_type": "code",
   "execution_count": null,
   "id": "9448e881-f616-4ee9-85fe-1101d18ac4b3",
   "metadata": {},
   "outputs": [],
   "source": []
  }
 ],
 "metadata": {
  "kernelspec": {
   "display_name": "Python 3 (ipykernel)",
   "language": "python",
   "name": "python3"
  },
  "language_info": {
   "codemirror_mode": {
    "name": "ipython",
    "version": 3
   },
   "file_extension": ".py",
   "mimetype": "text/x-python",
   "name": "python",
   "nbconvert_exporter": "python",
   "pygments_lexer": "ipython3",
   "version": "3.10.12"
  }
 },
 "nbformat": 4,
 "nbformat_minor": 5
}
