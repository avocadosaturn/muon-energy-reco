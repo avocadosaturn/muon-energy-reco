{
 "cells": [
  {
   "cell_type": "code",
   "execution_count": 1,
   "id": "94246eaf-687f-4bbd-8c68-296050544882",
   "metadata": {},
   "outputs": [
    {
     "name": "stdout",
     "output_type": "stream",
     "text": [
      "62\n"
     ]
    }
   ],
   "source": [
    "import numpy as np\n",
    "\n",
    "file_ns = range(54)\n",
    "\n",
    "energies = np.empty(0)\n",
    "naive = np.empty(0)\n",
    "detailed = np.empty(0)\n",
    "edep = np.empty(0)\n",
    "evs = np.empty(0)\n",
    "\n",
    "for n in file_ns:\n",
    "    data = np.load(f'/sdf/data/neutrino/summer25/seohyeon/edep_estimators/muon1k_0-1gev_estimators_edep_run{n}.npz')\n",
    "\n",
    "    energies = np.append(energies, data['energies'])\n",
    "    naive = np.append(naive, data['naive'])\n",
    "    detailed = np.append(detailed, data['detailed'])\n",
    "    edep = np.append(edep, data['edeps'])\n",
    "    evs = np.append(evs, (n * 1000) + data['evs'])\n",
    "\n",
    "\n",
    "# removing outliers\n",
    "outlier_data = np.load('/sdf/data/neutrino/summer25/seohyeon/outliers.npz')\n",
    "outliers = []\n",
    "outliers.extend(outlier_data['difs'])\n",
    "outliers.extend(outlier_data['scatterings'])\n",
    "outliers.append(19956) # the negative energy outlier\n",
    "\n",
    "outliers = list(set(outliers)) \n",
    "\n",
    "\n",
    "\n",
    "energies = np.delete(energies, outliers)\n",
    "naive = np.delete(naive, outliers)\n",
    "detailed = np.delete(detailed, outliers)\n",
    "edep = np.delete(edep, outliers)\n",
    "evs = np.delete(evs, outliers)\n",
    "\n",
    "np.savez('/sdf/data/neutrino/summer25/seohyeon/edep_estimators/muon1k_0-1gev_estimators_edep_cleaned.npz', energies=energies, naive=naive, detailed=detailed, edep=edep, evs=evs)\n"
   ]
  },
  {
   "cell_type": "code",
   "execution_count": null,
   "id": "2cb85f81-b7fe-409a-8c6c-f8208fb9b024",
   "metadata": {},
   "outputs": [],
   "source": []
  }
 ],
 "metadata": {
  "kernelspec": {
   "display_name": "Python 3 (ipykernel)",
   "language": "python",
   "name": "python3"
  },
  "language_info": {
   "codemirror_mode": {
    "name": "ipython",
    "version": 3
   },
   "file_extension": ".py",
   "mimetype": "text/x-python",
   "name": "python",
   "nbconvert_exporter": "python",
   "pygments_lexer": "ipython3",
   "version": "3.10.12"
  }
 },
 "nbformat": 4,
 "nbformat_minor": 5
}
