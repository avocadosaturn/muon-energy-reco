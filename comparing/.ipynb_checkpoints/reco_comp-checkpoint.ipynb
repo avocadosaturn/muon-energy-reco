{
 "cells": [
  {
   "cell_type": "code",
   "execution_count": 1,
   "id": "5fda70b3-422f-4d28-91b0-3e11ccbb5615",
   "metadata": {},
   "outputs": [],
   "source": [
    "import h5py\n",
    "import sys\n",
    "import numpy as np\n",
    "import statistics\n",
    "import matplotlib.pyplot as plt\n",
    "from matplotlib.colors import LogNorm\n",
    "import seaborn as sns\n",
    "import pandas as pd\n",
    "import os\n",
    "from scipy.interpolate import make_smoothing_spline, make_splrep, interp1d, BSpline"
   ]
  },
  {
   "cell_type": "code",
   "execution_count": 5,
   "id": "c48954c8-0fe4-4711-a5bc-734e52ff5caf",
   "metadata": {},
   "outputs": [],
   "source": [
    "import importlib\n",
    "import tools\n",
    "importlib.reload(tools)\n",
    "from tools import bin_data  \n",
    "\n",
    "\n",
    "file_ns = range(54)\n",
    "\n",
    "energiest = np.empty(0)\n",
    "naivet = np.empty(0)\n",
    "detailedt = np.empty(0)\n",
    "\n",
    "\n",
    "\n",
    "for n in file_ns:\n",
    "    datat = np.load(f'/sdf/data/neutrino/summer25/seohyeon/edep_estimators/muon1k_0-1gev_estimators_edep_run{n}.npz')\n",
    "\n",
    "\n",
    "    energiest = np.append(energiest, datat['energies'])\n",
    "    naivet = np.append(naivet, datat['naive'])\n",
    "    detailedt = np.append(detailedt, datat['detailed'])\n",
    "    \n",
    "\n",
    "\n",
    "\n",
    "energiesg = np.empty(0)\n",
    "naiveg = np.empty(0)\n",
    "detailedg = np.empty(0)\n",
    "evsg = np.empty(0)\n",
    "\n",
    "\n",
    "for n in file_ns:\n",
    "    datag = np.load(f'/sdf/data/neutrino/summer25/seohyeon/gampix_estimators/muon1k_0-1gev_estimators_gampix_run{n}.npz')\n",
    "    \n",
    "\n",
    "    energiesg = np.append(energiesg, datag['energies'])\n",
    "    naiveg = np.append(naiveg, datag['naive'])\n",
    "    detailedg = np.append(detailedg, datag['detailed'])\n",
    "    evsg = np.append(evsg, datag['evs'])\n",
    "\n"
   ]
  },
  {
   "cell_type": "code",
   "execution_count": 7,
   "id": "19ffaf7b-dc3c-4191-8764-df7bcd986f75",
   "metadata": {},
   "outputs": [],
   "source": [
    "splinest = np.load('/sdf/data/neutrino/summer25/seohyeon/efxns/efxns54k_truth.npz')\n",
    "\n",
    "naivet_spl = BSpline(splinest['naive_t'], splinest['naive_c'], splinest['naive_k'])\n",
    "detailedt_spl = BSpline(splinest['detailed_t'], splinest['detailed_c'], splinest['detailed_k'])\n",
    "\n",
    "splinesg = np.load('/sdf/data/neutrino/summer25/seohyeon/efxns/efxns_54k_gampix.npz')\n",
    "\n",
    "naiveg_spl = BSpline(splinesg['naive_t'], splinesg['naive_c'], splinesg['naive_k'])\n",
    "detailedg_spl = BSpline(splinesg['detailed_t'], splinesg['detailed_c'], splinesg['detailed_k'])\n",
    "\n"
   ]
  },
  {
   "cell_type": "code",
   "execution_count": null,
   "id": "7cc6a8f5-2630-46ec-8888-051a1c35a8ed",
   "metadata": {},
   "outputs": [],
   "source": []
  }
 ],
 "metadata": {
  "kernelspec": {
   "display_name": "Python 3 (ipykernel)",
   "language": "python",
   "name": "python3"
  },
  "language_info": {
   "codemirror_mode": {
    "name": "ipython",
    "version": 3
   },
   "file_extension": ".py",
   "mimetype": "text/x-python",
   "name": "python",
   "nbconvert_exporter": "python",
   "pygments_lexer": "ipython3",
   "version": "3.10.12"
  }
 },
 "nbformat": 4,
 "nbformat_minor": 5
}
