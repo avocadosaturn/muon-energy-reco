{
 "cells": [
  {
   "cell_type": "code",
   "execution_count": 133,
   "id": "9f5bf963-4ed2-4f65-adb5-a084358bbd56",
   "metadata": {},
   "outputs": [],
   "source": [
    "import h5py\n",
    "import sys\n",
    "import numpy as np\n",
    "import matplotlib.pyplot as plt\n",
    "from matplotlib.colors import LogNorm\n",
    "import os\n",
    "import math\n",
    "from scipy.interpolate import make_smoothing_spline, make_splrep, interp1d\n",
    "\n",
    "import importlib \n",
    "import tools\n",
    "importlib.reload(tools)\n",
    "\n",
    "from tools import bin_data  "
   ]
  },
  {
   "cell_type": "code",
   "execution_count": 141,
   "id": "49c6d5af-34ea-43a0-bfdd-8d6daec3c712",
   "metadata": {},
   "outputs": [
    {
     "name": "stdout",
     "output_type": "stream",
     "text": [
      "[np.int64(18290), np.int64(2135), np.int64(3389), np.int64(6929), np.int64(7312), np.int64(8093), np.int64(8136), np.int64(9061), np.int64(9766), np.int64(12343), np.int64(12393), np.int64(14044), np.int64(14456), np.int64(15006), np.int64(16482), np.int64(17258), np.int64(18164), np.int64(18551), np.int64(18766), np.int64(19276), np.int64(20742), np.int64(20751), np.int64(21376), np.int64(21385), np.int64(22674), np.int64(22825), np.int64(23439), np.int64(24180), np.int64(26782), np.int64(28384), np.int64(31190), np.int64(31804), np.int64(32398), np.int64(33572), np.int64(33848), np.int64(33850), np.int64(33921)]\n",
      "894.4533081054688\n",
      "286.0301513671875\n",
      "287.05667461713745\n",
      "780.0\n",
      "\n",
      "953.2943725585938\n",
      "405.1405029296875\n",
      "408.8034770457609\n",
      "732.0\n"
     ]
    }
   ],
   "source": [
    "file_ns = range(54)\n",
    "\n",
    "energies = np.empty(0)\n",
    "naive = np.empty(0)\n",
    "detailed = np.empty(0)\n",
    "edep = np.empty(0)\n",
    "evs = np.empty(0)\n",
    "\n",
    "\n",
    "for n in file_ns:\n",
    "    gampix = np.load(f'/sdf/data/neutrino/summer25/seohyeon/gampix_estimators/muon1k_0-1gev_estimators_gampix_run{n}.npz')\n",
    "\n",
    "    energies = np.append(energies, gampix['energies'])\n",
    "    naive = np.append(naive, gampix['naive'])\n",
    "    detailed = np.append(detailed, gampix['detailed'])\n",
    "    evs = np.append(evs, gampix['evs'])\n",
    "\n",
    "\n",
    "\n",
    "\n",
    "global_evs = np.empty(0)\n",
    "prev = 0\n",
    "mult = 0\n",
    "for ev in evs:\n",
    "    current = ev\n",
    "    if current - prev < 0:\n",
    "        mult += 1000\n",
    "        global_evs = np.append(global_evs, mult + current)\n",
    "        prev = ev\n",
    "    else:\n",
    "        global_evs = np.append(global_evs, mult + current)\n",
    "        prev = ev\n",
    "\n",
    "\n",
    "\n",
    "outliers = [1320, 28732, 1463, 1833, 2012, 2945, 3358, 5288, 10772, 11387, 12611, 12680, 14093, 15212, 16018, 19101, 19345, 19427, 19941, 22016, 22658, 23485, 24292, 24733, 25839, 26498, 27067, 28535, 28801, 29148, 29493, 30028, 30258, 30575, 32519, 32532, 33498, 33509, 35518, 35753, 36699, 37155, 37304, 37796, 37843, 38281, 39747, 40708, 41005, 41940, 44496, 46371, 48920, 49876, 50547, 50756, 52289, 52627, 53064, 53066, 53167]\n",
    "outliersg = []\n",
    "for outlier in outliers:\n",
    "    i = np.where(global_evs == outlier)\n",
    "    if len(i[0]) == 0:\n",
    "        continue\n",
    "    else:\n",
    "        outliersg.append(i[0][0])\n",
    "\n",
    "print(outliersg)\n",
    "\n",
    "energies = np.delete(energies, outliersg)\n",
    "\n",
    "naive = np.delete(naive, outliersg)\n",
    "detailed = np.delete(detailed, outliersg)\n",
    "\n",
    "print(energies[2398])\n",
    "print(naive[2398])\n",
    "print(detailed[2398])\n",
    "print(evs[2399])\n",
    "print()\n",
    "# + 1  \n",
    "\n",
    "print(energies[18274])\n",
    "print(naive[18274])\n",
    "print(detailed[18274])\n",
    "print(evs[18290])\n",
    "# +16\n",
    "\n",
    "N = len(energies)\n",
    "tr_N = math.ceil(N/2)\n",
    "\n",
    "# plt.figure()\n",
    "# plt.plot(energies, detailed, 'o')\n",
    "\n",
    "# plt.figure()\n",
    "# plt.plot(energies2, detailed2, 'o')\n"
   ]
  },
  {
   "cell_type": "code",
   "execution_count": 142,
   "id": "82615a78-46fc-4da5-a7ad-01d7ff80856d",
   "metadata": {},
   "outputs": [
    {
     "name": "stdout",
     "output_type": "stream",
     "text": [
      "23\n"
     ]
    }
   ],
   "source": [
    "# training data-----\n",
    "tr_energies = energies[:tr_N]\n",
    "\n",
    "tr_naive = naive[:tr_N]\n",
    "tr_naive_x, tr_naive_y, tr_naive_errors, tr_naive_rrms = bin_data(tr_naive, tr_energies, 40)\n",
    "\n",
    "# to prevent the binning curve\n",
    "tr_naive_x = tr_naive_x[:-4]\n",
    "tr_naive_y = tr_naive_y[:-4]\n",
    "tr_naive_x = np.insert(tr_naive_x, 0, np.min(tr_naive))\n",
    "tr_naive_y = np.insert(tr_naive_y, 0, tr_energies[np.argmin(tr_naive)])\n",
    "\n",
    "\n",
    "# testing data------\n",
    "te_energies = energies[tr_N:N]\n",
    "te_naive = naive[tr_N:N]\n",
    "te_naive_x, te_naive_y, te_naive_errors, te_naive_rrms = bin_data(te_naive, te_energies, 40)\n",
    "\n",
    "te_naive_x = te_naive_x[:-4]\n",
    "te_naive_y = te_naive_y[:-4]\n",
    "te_naive_x = np.insert(te_naive_x, 0, np.min(te_naive))\n",
    "te_naive_y = np.insert(te_naive_y, 0, te_energies[np.argmin(te_naive)])\n",
    "\n",
    "\n",
    "# optimizing s\n",
    "least_squares = []\n",
    "for s in range(500):\n",
    "    tr_naive_spl = make_splrep(tr_naive_x, tr_naive_y, s=s)\n",
    "\n",
    "    ls = 0\n",
    "    for i, pt in enumerate(te_naive_x):\n",
    "        spline_pt = tr_naive_spl(pt)\n",
    "        test_pt = te_naive_y[i]\n",
    "    \n",
    "        ls += (test_pt - spline_pt) **2 \n",
    "\n",
    "    least_squares.append(ls)\n",
    "\n",
    "s = least_squares.index(min(least_squares))\n",
    "print(s)\n",
    "naive_spl = make_splrep(tr_naive_x, tr_naive_y, s=s)"
   ]
  },
  {
   "cell_type": "code",
   "execution_count": 143,
   "id": "4403d10c-9807-4463-938f-8bfe56d95522",
   "metadata": {},
   "outputs": [
    {
     "data": {
      "text/plain": [
       "Text(0, 0.5, '$T_\\\\mu$ (MeV)')"
      ]
     },
     "execution_count": 143,
     "metadata": {},
     "output_type": "execute_result"
    },
    {
     "data": {
      "image/png": "[encoded data removed]",
      "text/plain": [
       "<Figure size 640x480 with 1 Axes>"
      ]
     },
     "metadata": {},
     "output_type": "display_data"
    }
   ],
   "source": [
    "plt.figure()\n",
    "plt.plot(naive, energies, 'o', ms=4, color='lightgray')\n",
    "plt.plot(tr_naive_x, tr_naive_y, 'o', ms=5, color='black')\n",
    "plt.plot(tr_naive_x, naive_spl(tr_naive_x), linewidth=1, color='black')\n",
    "plt.xlabel(r'$r_n$ (mm)', fontsize=12)\n",
    "plt.ylabel(r'$T_\\mu$ (MeV)', fontsize=12)\n",
    "# plt.title(f'true muon KE vs. naive length, {total_evs} events', fontsize=16)\n",
    "# plt.savefig(f'Plots/residuals/naive_fit_{total_evs}evs.png')\n"
   ]
  },
  {
   "cell_type": "code",
   "execution_count": 144,
   "id": "153c3f63-5a2c-4494-b4bb-53774a834db1",
   "metadata": {},
   "outputs": [
    {
     "name": "stdout",
     "output_type": "stream",
     "text": [
      "23\n"
     ]
    }
   ],
   "source": [
    "# training data-----\n",
    "\n",
    "\n",
    "tr_detailed = detailed[:tr_N]\n",
    "tr_detailed_x, tr_detailed_y, tr_detailed_errors, tr_detailed_rrms = bin_data(tr_detailed, tr_energies, 40)\n",
    "\n",
    "# to prevent the binning curve\n",
    "tr_detailed_x = tr_detailed_x[:-4]\n",
    "tr_detailed_y = tr_detailed_y[:-4]\n",
    "tr_detailed_x = np.insert(tr_detailed_x, 0, np.min(tr_detailed))\n",
    "tr_detailed_y = np.insert(tr_detailed_y, 0, tr_energies[np.argmin(tr_detailed)])\n",
    "\n",
    "\n",
    "# testing data------\n",
    "te_detailed = detailed[tr_N:N]\n",
    "te_detailed_x, te_detailed_y, te_detailed_errors, te_detailed_rrms = bin_data(te_detailed, te_energies, 40)\n",
    "\n",
    "\n",
    "te_detailed_x = te_detailed_x[:-4]\n",
    "te_detailed_y = te_detailed_y[:-4]\n",
    "te_detailed_x = np.insert(te_detailed_x, 0, np.min(te_detailed))\n",
    "te_detailed_y = np.insert(te_detailed_y, 0, te_energies[np.argmin(te_detailed)])\n",
    "\n",
    "\n",
    "# optimizing s\n",
    "least_squares = []\n",
    "for s in range(500):\n",
    "    tr_detailed_spl = make_splrep(tr_detailed_x, tr_detailed_y, s=s)\n",
    "\n",
    "    ls = 0\n",
    "    for i, pt in enumerate(te_detailed_x):\n",
    "        spline_pt = tr_detailed_spl(pt)\n",
    "        test_pt = te_detailed_y[i]\n",
    "    \n",
    "        ls += (test_pt - spline_pt) **2 \n",
    "\n",
    "    least_squares.append(ls)\n",
    "\n",
    "s = least_squares.index(min(least_squares))\n",
    "print(s)\n",
    "detailed_spl = make_splrep(tr_detailed_x, tr_detailed_y, s=s)\n",
    "\n"
   ]
  },
  {
   "cell_type": "code",
   "execution_count": 145,
   "id": "e2ed287a-6e71-49a7-8fb6-33d92f87fa92",
   "metadata": {},
   "outputs": [
    {
     "name": "stdout",
     "output_type": "stream",
     "text": [
      "2398\n"
     ]
    },
    {
     "data": {
      "image/png": "[encoded data removed]",
      "text/plain": [
       "<Figure size 640x480 with 1 Axes>"
      ]
     },
     "metadata": {},
     "output_type": "display_data"
    }
   ],
   "source": [
    "plt.figure()\n",
    "plt.plot(detailed, energies, 'o', ms=4, color='lightgray')\n",
    "plt.plot(tr_detailed_x, tr_detailed_y, 'o', ms=5, color='black')\n",
    "plt.plot(tr_detailed_x, detailed_spl(tr_detailed_x), linewidth=1, color='black')\n",
    "plt.xlabel(r'$r_n$ (mm)', fontsize=12)\n",
    "plt.ylabel(r'$T_\\mu$ (MeV)', fontsize=12)\n",
    "# plt.title(f'true muon KE vs. detailed length, {total_evs} events', fontsize=16)\n",
    "# plt.savefig(f'Plots/residuals/detailed_fit_{total_evs}evs.png')\n",
    "\n",
    "for i, val in enumerate(energies):\n",
    "    if val > 800 and detailed[i] < 300:\n",
    "        print(i)\n"
   ]
  },
  {
   "cell_type": "code",
   "execution_count": 33,
   "id": "a37ebbb3-bcda-4ea2-ad62-7bb296af24b8",
   "metadata": {
    "collapsed": true,
    "jupyter": {
     "outputs_hidden": true,
     "source_hidden": true
    }
   },
   "outputs": [
    {
     "ename": "ValueError",
     "evalue": "min() arg is an empty sequence",
     "output_type": "error",
     "traceback": [
      "\u001b[0;31m---------------------------------------------------------------------------\u001b[0m",
      "\u001b[0;31mValueError\u001b[0m                                Traceback (most recent call last)",
      "Cell \u001b[0;32mIn[33], line 3\u001b[0m\n\u001b[1;32m      1\u001b[0m \u001b[38;5;66;03m# training data-----\u001b[39;00m\n\u001b[1;32m      2\u001b[0m tr_edeps \u001b[38;5;241m=\u001b[39m edep[:tr_N]\n\u001b[0;32m----> 3\u001b[0m tr_edeps_x, tr_edeps_y, tr_edeps_errors, tr_edeps_rrms \u001b[38;5;241m=\u001b[39m \u001b[43mbin_data\u001b[49m\u001b[43m(\u001b[49m\u001b[43mtr_edeps\u001b[49m\u001b[43m,\u001b[49m\u001b[43m \u001b[49m\u001b[43mtr_energies\u001b[49m\u001b[43m,\u001b[49m\u001b[43m \u001b[49m\u001b[38;5;241;43m40\u001b[39;49m\u001b[43m)\u001b[49m\n\u001b[1;32m      5\u001b[0m \u001b[38;5;66;03m# to prevent the binning curve\u001b[39;00m\n\u001b[1;32m      6\u001b[0m tr_edeps_x \u001b[38;5;241m=\u001b[39m tr_edeps_x[:\u001b[38;5;241m-\u001b[39m\u001b[38;5;241m4\u001b[39m]\n",
      "File \u001b[0;32m~/summer25/gampix_chain/tools.py:6\u001b[0m, in \u001b[0;36mbin_data\u001b[0;34m(xpts, ypts, n_bins)\u001b[0m\n\u001b[1;32m      3\u001b[0m \u001b[38;5;28;01mimport\u001b[39;00m\u001b[38;5;250m \u001b[39m\u001b[38;5;21;01mmath\u001b[39;00m\n\u001b[1;32m      4\u001b[0m \u001b[38;5;28;01mimport\u001b[39;00m\u001b[38;5;250m \u001b[39m\u001b[38;5;21;01msys\u001b[39;00m\n\u001b[0;32m----> 6\u001b[0m bins \u001b[38;5;241m=\u001b[39m np\u001b[38;5;241m.\u001b[39mlinspace(\u001b[38;5;28;43mmin\u001b[39;49m\u001b[43m(\u001b[49m\u001b[43mxpts\u001b[49m\u001b[43m)\u001b[49m, \u001b[38;5;28mmax\u001b[39m(xpts), n_bins \u001b[38;5;241m+\u001b[39m \u001b[38;5;241m1\u001b[39m) \u001b[38;5;66;03m#making bins\u001b[39;00m\n\u001b[1;32m      8\u001b[0m \u001b[38;5;66;03m# calculating midpoints of bins\u001b[39;00m\n\u001b[1;32m      9\u001b[0m bin_midpts \u001b[38;5;241m=\u001b[39m []\n",
      "\u001b[0;31mValueError\u001b[0m: min() arg is an empty sequence"
     ]
    }
   ],
   "source": [
    "# training data-----\n",
    "tr_edeps = edep[:tr_N]\n",
    "tr_edeps_x, tr_edeps_y, tr_edeps_errors, tr_edeps_rrms = bin_data(tr_edeps, tr_energies, 40)\n",
    "\n",
    "# to prevent the binning curve\n",
    "tr_edeps_x = tr_edeps_x[:-4]\n",
    "tr_edeps_y = tr_edeps_y[:-4]\n",
    "tr_edeps_x = np.insert(tr_edeps_x, 0, np.min(tr_edeps))\n",
    "tr_edeps_y = np.insert(tr_edeps_y, 0, tr_energies[np.argmin(tr_edeps)])\n",
    "\n",
    "\n",
    "# testing data------\n",
    "te_edeps = edep[tr_N:N]\n",
    "te_edeps_x, te_edeps_y, te_edeps_errors, te_edeps_rrms = bin_data(te_edeps, te_energies, 40)\n",
    "\n",
    "te_edeps_x = te_edeps_x[:-4]\n",
    "te_edeps_y = te_edeps_y[:-4]\n",
    "te_edeps_x = np.insert(te_edeps_x, 0, np.min(te_edeps))\n",
    "te_edeps_y = np.insert(te_edeps_y, 0, te_energies[np.argmin(te_edeps)])\n",
    "\n",
    "\n",
    "# optimizing s\n",
    "least_squares = []\n",
    "for s in range(100):\n",
    "    tr_edeps_spl = make_splrep(tr_edeps_x, tr_edeps_y, s=s)\n",
    "\n",
    "    ls = 0\n",
    "    for i, pt in enumerate(te_edeps_x):\n",
    "        spline_pt = tr_edeps_spl(pt)\n",
    "        test_pt = te_edeps_y[i]\n",
    "    \n",
    "        ls += (test_pt - spline_pt) **2 \n",
    "\n",
    "    least_squares.append(ls)\n",
    "\n",
    "s = least_squares.index(min(least_squares))\n",
    "edeps_spl = make_splrep(tr_edeps_x, tr_edeps_y, s=s)"
   ]
  },
  {
   "cell_type": "code",
   "execution_count": null,
   "id": "c5386416-1fe3-4bd2-b328-6ea8f576809f",
   "metadata": {
    "jupyter": {
     "source_hidden": true
    }
   },
   "outputs": [],
   "source": [
    "plt.figure()\n",
    "# plt.plot(ranges_new, range_energies, 'o', ms=4, color='lightgray')\n",
    "plt.plot(tr_edeps_x, tr_edeps_y, 'o', ms=5, color='black')\n",
    "plt.plot(tr_edeps_x, edeps_spl(tr_edeps_x), linewidth=1, color='black')\n",
    "plt.xlabel(r'$r_n$ (mm)', fontsize=12)\n",
    "plt.ylabel(r'$T_\\mu$ (MeV)', fontsize=12)\n",
    "plt.title(f'true muon KE vs. edep, {total_evs} events', fontsize=16)\n",
    "plt.savefig(f'Plots/residuals/edep_fit_{total_evs}evs.png')"
   ]
  },
  {
   "cell_type": "code",
   "execution_count": 147,
   "id": "13a42b18-48c5-4692-b304-1f71cec0534d",
   "metadata": {},
   "outputs": [],
   "source": [
    "np.savez('/sdf/data/neutrino/summer25/seohyeon/efxns/efxns_54k_gampix.npz', naive_t = naive_spl.t, naive_c = naive_spl.c, naive_k = naive_spl.k,\n",
    "        detailed_t = detailed_spl.t, detailed_c = detailed_spl.c, detailed_k = detailed_spl.k)"
   ]
  },
  {
   "cell_type": "code",
   "execution_count": null,
   "id": "921148a7-6524-43ba-8620-1b38e6fdc3aa",
   "metadata": {},
   "outputs": [],
   "source": []
  }
 ],
 "metadata": {
  "kernelspec": {
   "display_name": "Python 3 (ipykernel)",
   "language": "python",
   "name": "python3"
  },
  "language_info": {
   "codemirror_mode": {
    "name": "ipython",
    "version": 3
   },
   "file_extension": ".py",
   "mimetype": "text/x-python",
   "name": "python",
   "nbconvert_exporter": "python",
   "pygments_lexer": "ipython3",
   "version": "3.10.12"
  }
 },
 "nbformat": 4,
 "nbformat_minor": 5
}
