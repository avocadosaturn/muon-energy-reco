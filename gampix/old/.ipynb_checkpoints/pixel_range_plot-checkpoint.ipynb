{
 "cells": [
  {
   "cell_type": "code",
   "execution_count": 3,
   "id": "f2ac8c4e-167e-4504-926c-6b818f832302",
   "metadata": {},
   "outputs": [],
   "source": [
    "import h5py\n",
    "import sys\n",
    "import numpy as np\n",
    "import matplotlib.pyplot as plt\n",
    "from sklearn.decomposition import PCA\n",
    "from mpl_toolkits.mplot3d import Axes3D"
   ]
  },
  {
   "cell_type": "code",
   "execution_count": 9,
   "id": "bc789817-cb67-4f12-91b0-144e01af3d03",
   "metadata": {},
   "outputs": [
    {
     "name": "stdout",
     "output_type": "stream",
     "text": [
      "[-129.53265754  -52.82790462 2449.48816275]\n"
     ]
    }
   ],
   "source": [
    "ranges=[] #cm\n",
    "\n",
    "f = h5py.File('/sdf/home/s/seohyeon/summer25/data/muon/mubar_1000_0-1GeV_gampixsim_5mmpp.h5')\n",
    "pixels = f['pixel_hits']\n",
    "coarse = f['coarse_hits']\n",
    "meta = f['meta']\n",
    "\n",
    "\n",
    "\n",
    "ev_mask_pixels = pixels['event id'] == 2\n",
    "ev_pixels = pixels[ev_mask_pixels]\n",
    "\n",
    "coords = []\n",
    "for pixel in ev_pixels:\n",
    "    hit_coord = np.array([pixel['pixel x'], pixel['pixel y'], pixel['hit z']])\n",
    "    coords.append(hit_coord)\n",
    "\n",
    "\n",
    "min_hits = 80\n",
    "if len(coords) < min_hits:\n",
    "    print(len(coords))\n",
    "    print('not enough hits in this event')\n",
    "    sys.exit()\n",
    "else:\n",
    "    pca = PCA(n_components = 3)\n",
    "    pca_on_hits = pca.fit(coords)\n",
    "    principal=pca.components_[0] #this is a unit vector\n",
    "\n",
    "\n",
    "#getting projection of each coordinate onto the principal axis\n",
    "parallel_proj={} #key is magnitude of projection, value is coordinate associated with it\n",
    "antiparallel_proj = {}\n",
    "for coord in coords:\n",
    "    proj = np.dot(principal, coord) * principal\n",
    "    mag_proj = np.linalg.norm(proj)\n",
    "\n",
    "    cos = np.dot(principal, proj) / mag_proj #cos theta between the projection and principal axis. Will be 1 if parallel, -1 if antiparallel\n",
    "    if cos > 0:\n",
    "        parallel_proj[mag_proj] = coord\n",
    "    elif cos < 0:\n",
    "        antiparallel_proj[mag_proj] = coord\n",
    "\n",
    "if len(parallel_proj)==0:\n",
    "    track_length=max(antiparallel_proj)\n",
    "    start=antiparallel_proj[min(antiparallel_proj)]\n",
    "    stop=antiparallel_proj[max(antiparallel_proj)]\n",
    "elif len(antiparallel_proj)==0:\n",
    "    track_length=max(parallel_proj)\n",
    "    start=parallel_proj[min(parallel_proj)]\n",
    "    stop=parallel_proj[max(parallel_proj)]\n",
    "else:\n",
    "    track_length = max(parallel_proj)+max(antiparallel_proj)\n",
    "    start=antiparallel_proj[max(antiparallel_proj)]\n",
    "    stop=parallel_proj[max(parallel_proj)]\n",
    "\n",
    "\n",
    "coords = np.vstack(coords)\n",
    "coords = coords[~np.all(coords == start, axis=1)]\n",
    "coords = coords[~np.all(coords == stop, axis=1)]\n",
    "\n",
    "length_vector = track_length * principal\n",
    "print(length_vector)\n",
    "\n"
   ]
  },
  {
   "cell_type": "code",
   "execution_count": 18,
   "id": "ee4b751d-721d-43f3-b1f4-cf91b85e4802",
   "metadata": {},
   "outputs": [
    {
     "data": {
      "text/plain": [
       "<mpl_toolkits.mplot3d.art3d.Line3DCollection at 0x7f0a7032d960>"
      ]
     },
     "execution_count": 18,
     "metadata": {},
     "output_type": "execute_result"
    },
    {
     "data": {
      "image/png": "[encoded data removed]",
      "text/plain": [
       "<Figure size 640x480 with 1 Axes>"
      ]
     },
     "metadata": {},
     "output_type": "display_data"
    }
   ],
   "source": [
    "fig = plt.figure()\n",
    "ax = fig.add_subplot(111, projection='3d')\n",
    "origin=[0, 0, 0]\n",
    "\n",
    "# plot axes\n",
    "ax.quiver(*origin, 500, 0, 0, arrow_length_ratio = 0.01, color='black')\n",
    "ax.text(500, 0, 0, 'x')\n",
    "ax.quiver(*origin, 0, 500, 0, arrow_length_ratio=0.01, color='black')\n",
    "ax.text(0, 500, 0, 'y')\n",
    "ax.quiver(*origin, 0, 0, 500, arrow_length_ratio = 0.01, color='black')\n",
    "ax.text(0, 0, 500, 'z')\n",
    "\n",
    "ax.set_axis_off()\n",
    "\n",
    "ax.set_xlim([-700, 700])\n",
    "ax.set_ylim([-700, 700])\n",
    "ax.set_zlim([-50, 1000])\n",
    "\n",
    "        \n",
    "# Plot points\n",
    "ax.scatter(coords[:, 0], coords[:, 1], coords[:, 2], color='b', marker='o')\n",
    "ax.scatter(*start, color='r', marker='o')\n",
    "ax.scatter(*stop, color='r', marker='o')\n",
    "# ax.quiver(0, 0, 0, *principal, length=800.0, arrow_length_ratio=0.01) #principal\n",
    "ax.quiver(*start, *length_vector, arrow_length_ratio=0.01, color='r', linewidths=2)\n",
    "\n"
   ]
  },
  {
   "cell_type": "code",
   "execution_count": null,
   "id": "62f56c4c-eff5-4026-8caf-78d05c24fe05",
   "metadata": {},
   "outputs": [],
   "source": []
  }
 ],
 "metadata": {
  "kernelspec": {
   "display_name": "Python 3 (ipykernel)",
   "language": "python",
   "name": "python3"
  },
  "language_info": {
   "codemirror_mode": {
    "name": "ipython",
    "version": 3
   },
   "file_extension": ".py",
   "mimetype": "text/x-python",
   "name": "python",
   "nbconvert_exporter": "python",
   "pygments_lexer": "ipython3",
   "version": "3.10.12"
  }
 },
 "nbformat": 4,
 "nbformat_minor": 5
}
