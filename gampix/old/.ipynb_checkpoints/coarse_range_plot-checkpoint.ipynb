{
 "cells": [
  {
   "cell_type": "code",
   "execution_count": 1,
   "id": "09003f82-4d93-41ae-ac80-67e67f3f5131",
   "metadata": {},
   "outputs": [],
   "source": [
    "import h5py\n",
    "import sys\n",
    "import numpy as np\n",
    "import matplotlib.pyplot as plt\n",
    "from sklearn.decomposition import PCA\n",
    "from mpl_toolkits.mplot3d import Axes3D"
   ]
  },
  {
   "cell_type": "code",
   "execution_count": 17,
   "id": "b58d6023-0ab8-4399-95e5-5cd61fdb5db8",
   "metadata": {},
   "outputs": [
    {
     "name": "stdout",
     "output_type": "stream",
     "text": [
      "[  5.       5.     311.2196]\n",
      "[-115.      -55.     2431.2197]\n",
      "2434.5364182722474\n"
     ]
    }
   ],
   "source": [
    "ranges=[] #cm\n",
    "\n",
    "f = h5py.File('/sdf/home/s/seohyeon/summer25/data/muon/mubar_1000_0-1GeV_gampixsim_5mmpp.h5')\n",
    "pixels = f['pixel_hits']\n",
    "coarse = f['coarse_hits']\n",
    "meta = f['meta'] \n",
    "evs = 0\n",
    "\n",
    "ev_mask_coarse = coarse['event id'] == ev_n\n",
    "ev_coarse = coarse[ev_mask_coarse]\n",
    "\n",
    "coords = []\n",
    "for hit in ev_coarse:\n",
    "    hit_coord = np.array([hit['tile x'], hit['tile y'], hit['hit z']])\n",
    "    coords.append(hit_coord)\n",
    "\n",
    "\n",
    "# pca analysis\n",
    "pca = PCA(n_components = 3)\n",
    "pca_on_hits = pca.fit(coords)\n",
    "principal=pca.components_[0] #this is a unit vector\n",
    "\n",
    "\n",
    "parallel_proj={} #key is magnitude of projection, value is coordinate associated with it\n",
    "antiparallel_proj = {}\n",
    "for coord in coords:\n",
    "    proj = np.dot(principal, coord) * principal\n",
    "    mag_proj = np.linalg.norm(proj)\n",
    "\n",
    "    cos = np.dot(principal, proj) / mag_proj #cos theta between the projection and principal axis. Will be 1 if parallel, -1 if antiparallel\n",
    "    if cos > 0:\n",
    "        parallel_proj[mag_proj] = coord\n",
    "    elif cos < 0:\n",
    "        antiparallel_proj[mag_proj] = coord\n",
    "\n",
    "if len(parallel_proj)==0:\n",
    "    track_length=max(antiparallel_proj)\n",
    "    start=antiparallel_proj[min(antiparallel_proj)]\n",
    "    stop=antiparallel_proj[max(antiparallel_proj)]\n",
    "elif len(antiparallel_proj)==0:\n",
    "    track_length=max(parallel_proj)\n",
    "    start=parallel_proj[min(parallel_proj)]\n",
    "    stop=parallel_proj[max(parallel_proj)]\n",
    "else:\n",
    "    track_length = max(parallel_proj)+max(antiparallel_proj)\n",
    "    start=antiparallel_proj[max(antiparallel_proj)]\n",
    "    stop=parallel_proj[max(parallel_proj)]\n",
    "\n",
    "print(start)\n",
    "print(stop)\n",
    "print(track_length)\n",
    "\n",
    "coords = np.vstack(coords)\n",
    "coords = coords[~np.all(coords == start, axis=1)]\n",
    "coords = coords[~np.all(coords == stop, axis=1)]\n",
    "\n",
    "\n",
    "\n"
   ]
  },
  {
   "cell_type": "code",
   "execution_count": 18,
   "id": "d0f055ca-6d88-480e-89d6-ee960e7d2c08",
   "metadata": {},
   "outputs": [
    {
     "data": {
      "image/png": "[encoded data removed]",
      "text/plain": [
       "<Figure size 640x480 with 1 Axes>"
      ]
     },
     "metadata": {},
     "output_type": "display_data"
    }
   ],
   "source": [
    "from matplotlib.widgets import Slider\n",
    "\n",
    "fig = plt.figure()\n",
    "ax = fig.add_subplot(111, projection='3d')\n",
    "origin=[0, 0, 0]\n",
    "\n",
    "# plot axes\n",
    "ax.quiver(*origin, 500, 0, 0, arrow_length_ratio = 0.01, color='black')\n",
    "ax.text(500, 0, 0, 'x')\n",
    "ax.quiver(*origin, 0, 500, 0, arrow_length_ratio=0.01, color='black')\n",
    "ax.text(0, 500, 0, 'y')\n",
    "ax.quiver(*origin, 0, 0, 500, arrow_length_ratio = 0.01, color='black')\n",
    "ax.text(0, 0, 500, 'z')\n",
    "        \n",
    "# Plot points\n",
    "ax.scatter(coords[:, 0], coords[:, 1], coords[:, 2], color='b', marker='o')\n",
    "ax.scatter(*start, color='r', marker='o')\n",
    "ax.scatter(*stop, color='r', marker='o')\n",
    "ax.quiver(0, 0, 0, *principal, length=800.0, arrow_length_ratio=0.01)\n",
    "\n",
    "ax.set_axis_off()\n",
    "\n",
    "ax.set_xlim([-500, 500])\n",
    "ax.set_ylim([-500, 500])\n",
    "ax.set_zlim([-500, 500])\n",
    "\n",
    "\n",
    "\n",
    "# plt.subplots_adjust(left=0.25, bottom=0.25)\n",
    "\n",
    "# #Slider axes: [left, bottom, width, height]\n",
    "# ax_elev = plt.axes([0.25, 0.1, 0.65, 0.03])\n",
    "# ax_azim = plt.axes([0.25, 0.15, 0.65, 0.03])\n",
    "\n",
    "# #Create sliders\n",
    "# slider_elev = Slider(ax_elev, 'Elevation', -90, 90, valinit=60)\n",
    "# slider_azim = Slider(ax_azim, 'Azimuth', -180, 180, valinit=-60)\n",
    "\n",
    "# #Update function to change view\n",
    "# def update(val):\n",
    "#    ax.view_init(elev=slider_elev.val, azim=slider_azim.val)\n",
    "#    fig.canvas.draw_idle()\n",
    "\n",
    "# slider_elev.on_changed(update)\n",
    "# slider_azim.on_changed(update)\n",
    "\n",
    "plt.savefig(f'Images/muon_event{ev_n}.png')\n",
    "\n"
   ]
  },
  {
   "cell_type": "code",
   "execution_count": null,
   "id": "da069136-fd73-4c04-b8fa-06d9cc2a8401",
   "metadata": {},
   "outputs": [],
   "source": []
  }
 ],
 "metadata": {
  "kernelspec": {
   "display_name": "Python 3 (ipykernel)",
   "language": "python",
   "name": "python3"
  },
  "language_info": {
   "codemirror_mode": {
    "name": "ipython",
    "version": 3
   },
   "file_extension": ".py",
   "mimetype": "text/x-python",
   "name": "python",
   "nbconvert_exporter": "python",
   "pygments_lexer": "ipython3",
   "version": "3.10.12"
  }
 },
 "nbformat": 4,
 "nbformat_minor": 5
}
